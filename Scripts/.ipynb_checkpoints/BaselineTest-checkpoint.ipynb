{
 "cells": [
  {
   "cell_type": "markdown",
   "id": "3999f4dd",
   "metadata": {},
   "source": [
    "Just using this to write and easily test the code for the baseline model. Final implementation will be in a py script, so it can be run from command line using GPU.\n"
   ]
  },
  {
   "cell_type": "markdown",
   "id": "dfaa3f03",
   "metadata": {},
   "source": [
    "# To do!\n",
    "- create function to extract data to train model\n",
    "- create function to output tags into appropriate format\n",
    "- make sure model works\n",
    "- train model\n",
    "- submit results\n",
    "\n"
   ]
  },
  {
   "cell_type": "code",
   "execution_count": 4,
   "id": "a2f708d6",
   "metadata": {},
   "outputs": [],
   "source": [
    "import numpy as np\n",
    "import torch\n",
    "import TorchCRF\n",
    "from torch import nn\n",
    "\n",
    "#Creating the class for the baseline Model\n",
    "\n",
    "class baselineModel(torch.nn.Module):\n",
    "\n",
    "    def __init__(self, nWords, tags, dimEmbed, dimHidden):\n",
    "        super().__init__()\n",
    "        self.dimEmbed = dimEmbed\n",
    "        self.dimHidden = dimHidden\n",
    "        self.vocabSize = nWords\n",
    "        self.tagSetSize = len(tags)\n",
    "        self.tagSet = tags\n",
    "\n",
    "        self.embed = nn.Embedding(nWords, dimEmbed)\n",
    "        self.LSTM = nn.LSTM(dimEmbed, dimHidden, batch_first = True, bidirectional = True)\n",
    "        self.linear = nn.Linear(dimHidden * 2, self.tagSetSize) \n",
    "        \n",
    "        self.CRF = torchcrf.CRF(self.tagSetSize, batch_first = True)\n",
    "\n",
    "\n",
    "        \n",
    "    def forwardTrain(self, inputData):\n",
    "        wordVectors = self.embed(inputData)\n",
    "        out, _ = self.LSTM(wordVectors.view((inputData.shape[0], inputData.shape[1], self.dimEmbed)))\n",
    "        out = self.linear(out)\n",
    "        preds = self.CRF.decode(out)\n",
    "        loss = self.CRF.forward(out, preds)\n",
    "        return loss\n",
    "        \n",
    "        \n",
    "    def forwardPred(self, inputData):\n",
    "        wordVectors = self.embed(inputData)\n",
    "        out, _ = self.LSTM(wordVectors.view((inputData.shape[0], inputData.shape[1], self.dimEmbed)))\n",
    "        out = self.linear(out)\n",
    "        preds = self.CRF.decode(out)\n",
    "        return preds\n"
   ]
  },
  {
   "cell_type": "code",
   "execution_count": null,
   "id": "e56125b7",
   "metadata": {},
   "outputs": [],
   "source": []
  }
 ],
 "metadata": {
  "kernelspec": {
   "display_name": "Python 3 (ipykernel)",
   "language": "python",
   "name": "python3"
  },
  "language_info": {
   "codemirror_mode": {
    "name": "ipython",
    "version": 3
   },
   "file_extension": ".py",
   "mimetype": "text/x-python",
   "name": "python",
   "nbconvert_exporter": "python",
   "pygments_lexer": "ipython3",
   "version": "3.11.5"
  }
 },
 "nbformat": 4,
 "nbformat_minor": 5
}
