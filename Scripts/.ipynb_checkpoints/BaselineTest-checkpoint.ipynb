{
 "cells": [
  {
   "cell_type": "markdown",
   "id": "3999f4dd",
   "metadata": {},
   "source": [
    "Just using this to write and easily test the code for the baseline model. Final implementation will be in a py script, so it can be run from command line using GPU.\n"
   ]
  },
  {
   "cell_type": "markdown",
   "id": "dfaa3f03",
   "metadata": {},
   "source": [
    "# To do!\n",
    "- create function to extract data to train model\n",
    "- create function to output tags into appropriate format\n",
    "- make model - Sort of done\n",
    "- make sure model works\n",
    "- train model\n",
    "- define hyperparamter space and random space search to optimize on dev dataset\n",
    "- submit results\n",
    "\n"
   ]
  },
  {
   "cell_type": "code",
   "execution_count": 13,
   "id": "a2f708d6",
   "metadata": {},
   "outputs": [],
   "source": [
    "import numpy as np\n",
    "import torch\n",
    "import TorchCRF\n",
    "from torch import nn\n",
    "\n",
    "#Creating the class for the baseline Model\n",
    "\n",
    "class baselineModel(torch.nn.Module):\n",
    "\n",
    "    def __init__(self, nWords, tags, dimEmbed, dimHidden):\n",
    "        super().__init__()\n",
    "        self.dimEmbed = dimEmbed\n",
    "        self.dimHidden = dimHidden\n",
    "        self.vocabSize = nWords\n",
    "        self.tagSetSize = len(tags)\n",
    "        self.tagSet = tags\n",
    "\n",
    "        self.embed = nn.Embedding(nWords, dimEmbed)\n",
    "        self.LSTM = nn.LSTM(dimEmbed, dimHidden, batch_first = True, bidirectional = True)\n",
    "        self.linear = nn.Linear(dimHidden * 2, self.tagSetSize) \n",
    "        \n",
    "        self.CRF = TorchCRF.CRF(self.tagSetSize, batch_first = True)\n",
    "\n",
    "\n",
    "        \n",
    "    def forwardTrain(self, inputData):\n",
    "        wordVectors = self.embed(inputData)\n",
    "        out, _ = self.LSTM(wordVectors.view((inputData.shape[0], inputData.shape[1], self.dimEmbed)))\n",
    "        out = self.linear(out)\n",
    "        preds = self.CRF.decode(out)\n",
    "        loss = self.CRF.forward(out, preds)\n",
    "        return loss\n",
    "        \n",
    "        \n",
    "    def forwardPred(self, inputData):\n",
    "        wordVectors = self.embed(inputData)\n",
    "        out, _ = self.LSTM(wordVectors.view((inputData.shape[0], inputData.shape[1], self.dimEmbed)))\n",
    "        out = self.linear(out)\n",
    "        preds = self.CRF.decode(out)\n",
    "        return preds\n"
   ]
  },
  {
   "cell_type": "code",
   "execution_count": 18,
   "id": "e56125b7",
   "metadata": {},
   "outputs": [],
   "source": [
    "# two first sentences of EWT training dataset so that quickdebugging can be run\n",
    "\n",
    "tags = [\"O\", \"B-PER\", \"I-PER\", \"B-LOC\", \"I-LOC\", \"B-ORG\", \"I-ORG\"]\n",
    "\n",
    "trainingDebugSen = [[\"Where\", \"in\", \"the\", \"world\", \"is\", \"Iguazu\", \"?\"], [\"Iguazu\", \"Falls\"]]\n",
    "trainingDebugTags = [[\"O\", \"O\", \"O\", \"O\", \"O\", \"B-LOC\", \"O\"], [\"B-LOC\", \"I-LOC\"]]\n"
   ]
  },
  {
   "cell_type": "code",
   "execution_count": 17,
   "id": "aea07922-c414-4a57-ab4d-0835817e72a2",
   "metadata": {},
   "outputs": [
    {
     "ename": "ValueError",
     "evalue": "too many dimensions 'str'",
     "output_type": "error",
     "traceback": [
      "\u001b[1;31m---------------------------------------------------------------------------\u001b[0m",
      "\u001b[1;31mValueError\u001b[0m                                Traceback (most recent call last)",
      "Cell \u001b[1;32mIn[17], line 16\u001b[0m\n\u001b[0;32m     13\u001b[0m model\u001b[38;5;241m.\u001b[39mzero_grad()\n\u001b[0;32m     15\u001b[0m optimizer\u001b[38;5;241m.\u001b[39mzero_grad()\n\u001b[1;32m---> 16\u001b[0m loss \u001b[38;5;241m=\u001b[39m model\u001b[38;5;241m.\u001b[39mforwardTrain(torch\u001b[38;5;241m.\u001b[39mtensor(trainingDebugSen))\n\u001b[0;32m     19\u001b[0m loss\u001b[38;5;241m.\u001b[39mbackward()\n\u001b[0;32m     20\u001b[0m optimizer\u001b[38;5;241m.\u001b[39mstep()\n",
      "\u001b[1;31mValueError\u001b[0m: too many dimensions 'str'"
     ]
    }
   ],
   "source": [
    "\n",
    "\n",
    "DIM_EMBEDDING = 100\n",
    "LSTM_HIDDEN = 50\n",
    "BATCH_SIZE = 1\n",
    "LEARNING_RATE = 0.01\n",
    "EPOCHS = 5\n",
    "\n",
    "model = baselineModel(7, tags, DIM_EMBEDDING, LSTM_HIDDEN)\n",
    "optimizer = torch.optim.Adam(model.parameters(), lr=LEARNING_RATE)\n",
    "\n",
    "for epoch in range(EPOCHS):\n",
    "    model.train()\n",
    "    \n",
    "    model.zero_grad()\n",
    "     \n",
    "    optimizer.zero_grad()\n",
    "    loss = model.forwardTrain(torch.tensor(trainingDebugSen))\n",
    "        \n",
    "        \n",
    "    loss.backward()\n",
    "    optimizer.step()\n",
    "        \n",
    "    \n",
    "    print(epoch)\n",
    "        \n",
    "\n"
   ]
  },
  {
   "cell_type": "code",
   "execution_count": null,
   "id": "25479923-1370-426d-a97f-5f416bd17bdf",
   "metadata": {},
   "outputs": [],
   "source": []
  }
 ],
 "metadata": {
  "kernelspec": {
   "display_name": "Python 3 (ipykernel)",
   "language": "python",
   "name": "python3"
  },
  "language_info": {
   "codemirror_mode": {
    "name": "ipython",
    "version": 3
   },
   "file_extension": ".py",
   "mimetype": "text/x-python",
   "name": "python",
   "nbconvert_exporter": "python",
   "pygments_lexer": "ipython3",
   "version": "3.11.5"
  }
 },
 "nbformat": 4,
 "nbformat_minor": 5
}
