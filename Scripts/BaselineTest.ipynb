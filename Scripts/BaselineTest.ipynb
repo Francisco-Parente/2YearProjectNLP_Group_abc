{
 "cells": [
  {
   "cell_type": "markdown",
   "id": "3999f4dd",
   "metadata": {},
   "source": [
    "Just using this to write the easily test the code for the baseline model. Final implementation will be in a py script, so it can be run from command line using GPU.\n"
   ]
  },
  {
   "cell_type": "markdown",
   "id": "dfaa3f03",
   "metadata": {},
   "source": [
    "# To do!\n",
    "- create function to extract data to train model Done\n",
    "- create function to output tags into appropriate format\n",
    "- make model - Sort of done\n",
    "- train model\n",
    "- define hyperparamter space and random space search to optimize on dev dataset\n",
    "- submit results"
   ]
  },
  {
   "cell_type": "code",
   "execution_count": 2,
   "id": "7a67f426",
   "metadata": {},
   "outputs": [],
   "source": [
    "#Extracts the data into 2 lists of lists, one with the tokens another with the tags\n",
    "\n",
    "\n",
    "def extract_data(file_path):\n",
    "    \"\"\"\n",
    "    Returns:tuple: A tuple containing input data (list of lists of words), tags (list of lists of tags),\n",
    "    and metadata (list of tuples containing newdoc_id, sent_id, and text).\n",
    "    \"\"\"\n",
    "    words_data = []\n",
    "    tags_data = []\n",
    "    metadata = []\n",
    "    current_sent = None\n",
    "    with open(file_path, 'r', encoding='utf-8') as file:\n",
    "        for line in file:\n",
    "            line = line.strip()\n",
    "            if line.startswith(\"# newdoc id\"):\n",
    "                newdoc_id = line.split(\"= \")[1]\n",
    "            elif line.startswith(\"# sent_id\"):\n",
    "                sent_id = line.split(\"= \")[1]\n",
    "            elif line.startswith(\"# text\"):\n",
    "                text = line.split(\"= \")[1]\n",
    "            elif line:\n",
    "                parts = line.split('\\t')\n",
    "                word = parts[1]\n",
    "                tag = parts[2]\n",
    "                if sent_id != current_sent:\n",
    "                    current_sent = sent_id\n",
    "                    words_data.append([word])\n",
    "                    tags_data.append([tag])\n",
    "                    metadata.append((newdoc_id, sent_id, text))\n",
    "                else:\n",
    "                    words_data[-1].append(word)\n",
    "                    tags_data[-1].append(tag)\n",
    "    return words_data, tags_data, metadata\n",
    "\n",
    "# Example usage:\n",
    "file_path = \"../Data/UniversalNER/train/en_ewt-ud-train.iob2\"\n",
    "words_data, tags_data, metadata = extract_data(file_path)\n",
    "# for words, tags, meta in zip(words_data, tags_data, metadata):\n",
    "#     print(\"Words:\", words)\n",
    "#     print(\"Tags:\", tags)\n",
    "#     print(\"Metadata:\", meta)\n",
    "#     print()\n"
   ]
  },
  {
   "cell_type": "code",
   "execution_count": 8,
   "id": "380bc832",
   "metadata": {},
   "outputs": [],
   "source": [
    "#Converts the Data into a tensor for use by the model\n",
    "\n",
    "def convertDataShape(data, vocabulary={}, labels=[], training=True, paddingToken='<PAD>'):\n",
    "    \"\"\"\n",
    "    If training is enabled creates a vocabulary of all words in a list. Otherwise, a vocabulary should be passed.\n",
    "    Does the same with the labels.\n",
    "    Creates a matrix of sentences and positions, where each value indicates a word via its index in the vocabulary.\n",
    "    Creates another matrix of sentences and positions, where the values indicate a label.\n",
    "    '<PAD>' or another user defined token is used as padding for short sentences. Will also act as an unknown token, if not training, it is assumed to be in vocabulary.\n",
    "    Returns, the vocabulary, the labels and the two matrices.\n",
    "    \n",
    "    Input:\n",
    "    data         - (string list * string list) list - List of sentences. Each sentence is a tuple of two lists. The first is a list of words, the second a list of labels.\n",
    "    vocabulary   - string : int dictionary          - Dictionary of words in the vocabulary, values are the indices. Should be provided if not training. Defaults to empty dict.\n",
    "    labels       - string list                      - Dictionary of labels to classify, values are the indices. Should be provided if not training. Defaults to empty dict.\n",
    "    training     - boolean                          - Boolean variable deffining whether training is taking place, if yes then a new vocabulary will be created. Defaults to yes.\n",
    "    paddingToken - string                           - Token to be used as padding and unknown. Default is provided\n",
    "    \n",
    "    Output:\n",
    "    Xmatrix      - 2D torch.tensor                  - 2d torch tensor containing the index of the word in the sentence in the vocabulary\n",
    "    Ymatrix      - 2D torch.tensor                  - 2d torch tensor containing the index of the label in the sentence in the labels\n",
    "    vocabulary   - string : int dictionary          - Dictionary of words, with indices as values, used for training.\n",
    "    labels       - string : int dictionary          - Dictionary of all the labels, with indices as values, used for classification. (all the labels are expected to be present in the training data, or in other words, the label list provided should be exhaustive)\n",
    "    \"\"\"\n",
    "    if training:\n",
    "        vocabList = [paddingToken] + sorted(set(word for sentence, _ in data for word in sentence))\n",
    "        labelList = [paddingToken] + sorted(set(label for _, sentence_labels in data for label in sentence_labels))\n",
    "        vocabulary = {word: i for i, word in enumerate(vocabList)}\n",
    "        labels = {label: i for i, label in enumerate(labelList)}\n",
    "    \n",
    "    max_len = max(len(sentence) for sentence, _ in data)\n",
    "    Xmatrix = np.zeros((len(data), max_len), dtype=int)\n",
    "    Ymatrix = np.zeros((len(data), max_len), dtype=int)\n",
    "    \n",
    "    for i, (sentence, sentence_labels) in enumerate(data):\n",
    "        for j, word in enumerate(sentence):\n",
    "            Xmatrix[i, j] = vocabulary.get(word, vocabulary[paddingToken])\n",
    "        for j, label in enumerate(sentence_labels):\n",
    "            Ymatrix[i, j] = labels.get(label, labels[paddingToken])\n",
    "    \n",
    "    return torch.tensor(Xmatrix, dtype=torch.long), torch.tensor(Ymatrix, dtype=torch.long), vocabulary, labels"
   ]
  },
  {
   "cell_type": "code",
   "execution_count": 4,
   "id": "5cb63731",
   "metadata": {},
   "outputs": [
    {
     "name": "stdout",
     "output_type": "stream",
     "text": [
      "WARNING:tensorflow:From D:\\Anaconda\\Lib\\site-packages\\keras\\src\\losses.py:2976: The name tf.losses.sparse_softmax_cross_entropy is deprecated. Please use tf.compat.v1.losses.sparse_softmax_cross_entropy instead.\n",
      "\n"
     ]
    }
   ],
   "source": [
    "import numpy as np\n",
    "import torch\n",
    "from torch import nn\n",
    "from allennlp.modules.conditional_random_field import ConditionalRandomField as CRF\n",
    "\n",
    "class baselineModel(torch.nn.Module):\n",
    "    def __init__(self, nWords, tags, dimEmbed, dimHidden):\n",
    "        super().__init__()\n",
    "        self.dimEmbed = dimEmbed\n",
    "        self.dimHidden = dimHidden\n",
    "        self.vocabSize = nWords\n",
    "        self.tagSetSize = len(tags)\n",
    "\n",
    "        self.embed = nn.Embedding(nWords, dimEmbed)\n",
    "        self.LSTM = nn.LSTM(dimEmbed, dimHidden, bidirectional=True)\n",
    "        self.linear = nn.Linear(dimHidden * 2, self.tagSetSize)\n",
    "        \n",
    "        # Initialize the CRF layer\n",
    "        self.CRF = CRF(self.tagSetSize, constraints=None, include_start_end_transitions=True)\n",
    "\n",
    "    def forwardTrain(self, inputData, labels):\n",
    "        # Embedding and LSTM layers\n",
    "        wordVectors = self.embed(inputData)\n",
    "        lstmOut, _ = self.LSTM(wordVectors)\n",
    "        \n",
    "        # Linear layer\n",
    "        emissions = self.linear(lstmOut)\n",
    "        \n",
    "        # CRF layer to compute the log likelihood loss\n",
    "        log_likelihood = self.CRF(emissions, labels)\n",
    "        \n",
    "        # The loss is the negative log-likelihood\n",
    "        loss = -log_likelihood\n",
    "        return loss\n",
    "        \n",
    "    def forwardPred(self, inputData):\n",
    "        # Embedding and LSTM layers\n",
    "        wordVectors = self.embed(inputData)\n",
    "        lstmOut, _ = self.LSTM(wordVectors)\n",
    "        \n",
    "        # Linear layer\n",
    "        emissions = self.linear(lstmOut)\n",
    "        \n",
    "        # Decode the best path\n",
    "        best_paths = self.CRF.viterbi_tags(emissions)\n",
    "        \n",
    "        # Extract the predicted tags from the paths\n",
    "        predictions = [path for path, score in best_paths]\n",
    "        return predictions\n"
   ]
  },
  {
   "cell_type": "code",
   "execution_count": 9,
   "id": "d166f3ea",
   "metadata": {},
   "outputs": [],
   "source": [
    "# two first sentences of EWT training dataset so that quickdebugging can be run\n",
    "\n",
    "tags = [\"O\", \"B-PER\", \"I-PER\", \"B-LOC\", \"I-LOC\", \"B-ORG\", \"I-ORG\"]\n",
    "\n",
    "trainingDebugSen = [[\"Where\", \"in\", \"the\", \"world\", \"is\", \"Iguazu\", \"?\"], [\"Iguazu\", \"Falls\"]]\n",
    "trainingDebugTags = [[\"O\", \"O\", \"O\", \"O\", \"O\", \"B-LOC\", \"O\"], [\"B-LOC\", \"I-LOC\"]]\n",
    "\n",
    "dataDebug, labelsDebug, vocabDebug, tagsDebug = convertDataShape(list(zip(trainingDebugSen, trainingDebugTags)))"
   ]
  },
  {
   "cell_type": "code",
   "execution_count": 11,
   "id": "6192fac0",
   "metadata": {},
   "outputs": [
    {
     "name": "stdout",
     "output_type": "stream",
     "text": [
      "Epoch 0, Loss: 26.6339168548584\n",
      "Epoch 1, Loss: 19.067951202392578\n",
      "Epoch 2, Loss: 13.250993728637695\n",
      "Epoch 3, Loss: 8.547966003417969\n",
      "Epoch 4, Loss: 4.967374801635742\n"
     ]
    }
   ],
   "source": [
    "#Quick traininig script on the debug dataset\n",
    "\n",
    "DIM_EMBEDDING = 100\n",
    "LSTM_HIDDEN = 50\n",
    "LEARNING_RATE = 0.01\n",
    "EPOCHS = 5\n",
    "\n",
    "model = baselineModel(len(vocabDebug), tagsDebug, DIM_EMBEDDING, LSTM_HIDDEN)\n",
    "optimizer = torch.optim.Adam(model.parameters(), lr=LEARNING_RATE)\n",
    "\n",
    "for epoch in range(EPOCHS):\n",
    "    model.train()\n",
    "    \n",
    "    optimizer.zero_grad()\n",
    "    loss = model.forwardTrain(dataDebug, labelsDebug)\n",
    "    \n",
    "    loss.backward()\n",
    "    optimizer.step()\n",
    "    \n",
    "    print(f\"Epoch {epoch}, Loss: {loss.item()}\")\n"
   ]
  },
  {
   "cell_type": "code",
   "execution_count": 22,
   "id": "f68fee95-753b-4a42-b2ce-cae881316205",
   "metadata": {},
   "outputs": [
    {
     "ename": "TypeError",
     "evalue": "'function' object is not subscriptable",
     "output_type": "error",
     "traceback": [
      "\u001b[1;31m---------------------------------------------------------------------------\u001b[0m",
      "\u001b[1;31mTypeError\u001b[0m                                 Traceback (most recent call last)",
      "Cell \u001b[1;32mIn[22], line 11\u001b[0m\n\u001b[0;32m      7\u001b[0m     predicts \u001b[38;5;241m=\u001b[39m model\u001b[38;5;241m.\u001b[39mforwardPred(dataDebug)\n\u001b[0;32m      9\u001b[0m MCM(torch\u001b[38;5;241m.\u001b[39mflatten(torch\u001b[38;5;241m.\u001b[39mtensor(predicts, dtype\u001b[38;5;241m=\u001b[39mtorch\u001b[38;5;241m.\u001b[39mlong)), torch\u001b[38;5;241m.\u001b[39mflatten(labelsDebug), num_classes \u001b[38;5;241m=\u001b[39m \u001b[38;5;28mlen\u001b[39m(tagsDebug))\n\u001b[1;32m---> 11\u001b[0m acc \u001b[38;5;241m=\u001b[39m torch\u001b[38;5;241m.\u001b[39msum(MCM[\u001b[38;5;241m1\u001b[39m:,\u001b[38;5;241m1\u001b[39m:])\u001b[38;5;241m/\u001b[39mtorch\u001b[38;5;241m.\u001b[39mtrace(MCM[\u001b[38;5;241m1\u001b[39m:,\u001b[38;5;241m1\u001b[39m:])\n",
      "\u001b[1;31mTypeError\u001b[0m: 'function' object is not subscriptable"
     ]
    }
   ],
   "source": [
    "#Getting predicitons and checking accuracy\n",
    "\n",
    "from torcheval.metrics.functional import multiclass_accuracy\n",
    "from torcheval.metrics.functional import multiclass_confusion_matrix as MCM\n",
    "\n",
    "with torch.no_grad():\n",
    "    predicts = model.forwardPred(dataDebug)\n",
    "\n",
    "confMat = MCM(torch.flatten(torch.tensor(predicts, dtype=torch.long)), torch.flatten(labelsDebug), num_classes = len(tagsDebug))\n",
    "\n",
    "acc = torch.sum(confMat[1:,1:])/torch.trace(confMat[1:,1:]) #Taking away the first collumn and first row, because those correspond to the padding token and we don't care"
   ]
  },
  {
   "cell_type": "code",
   "execution_count": null,
   "id": "1e1c711c-55e7-48e1-8bd9-b6d1c6ed3e12",
   "metadata": {},
   "outputs": [],
   "source": []
  }
 ],
 "metadata": {
  "kernelspec": {
   "display_name": "Python 3 (ipykernel)",
   "language": "python",
   "name": "python3"
  },
  "language_info": {
   "codemirror_mode": {
    "name": "ipython",
    "version": 3
   },
   "file_extension": ".py",
   "mimetype": "text/x-python",
   "name": "python",
   "nbconvert_exporter": "python",
   "pygments_lexer": "ipython3",
   "version": "3.11.5"
  },
  "vscode": {
   "interpreter": {
    "hash": "1a625b66f05a6716aa62bf8e78e9986d1cdda2644917a6be9f119c99e84bc87a"
   }
  }
 },
 "nbformat": 4,
 "nbformat_minor": 5
}
