{
 "cells": [
  {
   "cell_type": "markdown",
   "id": "3999f4dd",
   "metadata": {},
   "source": [
    "Just using this to write the easily test the code for the baseline model. Final implementation will be in a py script, so it can be run from command line using GPU.\n"
   ]
  },
  {
   "cell_type": "markdown",
   "id": "dfaa3f03",
   "metadata": {},
   "source": [
    "# To do!\n",
    "- create function to extract data to train model -- DONE!\n",
    "- create function to output tags into appropriate format -- DONE!\n",
    "- make model -- DONE!\n",
    "  - Incorporate start, stop and unknown tokens into the convert data shape. Start and stop should be both a label and a vocab. Unknown should only be vocab -- DONE!\n",
    "  - Define allowed transitions, such as cannot transition into start token, cannot transition into pad token, except from stop token, cannot transition out of stop token except into pad token, can only transition into I tokens, from the B token of the same category. Potentially use allowed_transitions from the allen nlp CRF module to create it, it should then be fed into the model on its creation -- DONE!\n",
    "- define hyperparamter space and random space search to optimize on dev dataset\n",
    "  - Hyperparameters we have are DIM_EMBEDDING, LSTM_HIDDEN, LEARNING_RATE, EPOCHS and BATCH_SIZE. The values we have currently were selected arbitrarily, we could look at articles implementing Bi-LSTM and CRF for inspiration on ranges and appropriate values. \n",
    "  - https://pytorch.org/tutorials/beginner/hyperparameter_tuning_tutorial.html I think this might be the easiest way to implement it, otherwise we might have to implement from scratch\n",
    "- train model -- This part should be working, just need to select the hyperparameters before we actually do it.\n",
    "- submit results"
   ]
  },
  {
   "cell_type": "code",
   "execution_count": 1,
   "id": "b9eefc47-bbb1-4b41-9e7f-5ef731463776",
   "metadata": {},
   "outputs": [
    {
     "data": {
      "text/plain": [
       "<torch._C.Generator at 0x10be1c390>"
      ]
     },
     "execution_count": 1,
     "metadata": {},
     "output_type": "execute_result"
    }
   ],
   "source": [
    "#Putting all the imports in one place for readability\n",
    "import numpy as np\n",
    "import torch\n",
    "from torch import nn\n",
    "import random\n",
    "from collections import Counter\n",
    "import Anotation\n",
    "import copy\n",
    "#from allennlp.modules.conditional_random_field import ConditionalRandomField as CRF\n",
    "from torcheval.metrics.functional import multiclass_confusion_matrix as MCM\n",
    "\n",
    "# Setting seeds to ensure reproducibility of results\n",
    "\n",
    "random.seed(666)\n",
    "np.random.seed(666)\n",
    "torch.manual_seed(666)"
   ]
  },
  {
   "cell_type": "code",
   "execution_count": 2,
   "id": "7a67f426",
   "metadata": {},
   "outputs": [],
   "source": [
    "#Extracts the data into 2 lists of lists, one with the tokens another with the tags\n",
    "\n",
    "\n",
    "def extractData(filePath):\n",
    "    \"\"\"\n",
    "    Returns:tuple: A tuple containing input data (list of lists of words), tags (list of lists of tags),\n",
    "    and metadata (list of tuples containing newdoc_id, sent_id, and text).\n",
    "    \"\"\"\n",
    "    wordsData = []\n",
    "    tagsData = []\n",
    "    currentSent = None\n",
    "    with open(filePath, 'r', encoding='utf-8') as file:\n",
    "        for line in file:\n",
    "            line = line.strip()\n",
    "            if line.startswith(\"# sent_id\"):\n",
    "                sentId = line.split(\"= \")[1]\n",
    "            elif line.startswith(\"#\"):\n",
    "                continue\n",
    "            elif line:                \n",
    "                parts = line.split('\\t')\n",
    "                word = parts[1]\n",
    "                tag = parts[2]\n",
    "                if sentId != currentSent:\n",
    "                    currentSent = sentId\n",
    "                    wordsData.append([word])\n",
    "                    tagsData.append([tag])\n",
    "                else:\n",
    "                    wordsData[-1].append(word)\n",
    "                    tagsData[-1].append(tag)\n",
    "    return wordsData, tagsData\n",
    "\n",
    "# Example usage:\n",
    "#file_path = \"../Data/UniversalNER/train/en_ewt-ud-train.iob2\"\n",
    "#words_data, tags_data = extractData(file_path)\n",
    "# for words, tags in zip(words_data, tags_data):\n",
    "#     print(\"Words:\", words)\n",
    "#     print(\"Tags:\", tags)\n",
    "#     print()"
   ]
  },
  {
   "cell_type": "code",
   "execution_count": 3,
   "id": "380bc832",
   "metadata": {},
   "outputs": [
    {
     "name": "stdout",
     "output_type": "stream",
     "text": [
      "tensor([[ 1,  7,  8, 10, 11,  9,  6,  4,  2],\n",
      "        [ 1,  6,  5,  2,  0,  0,  0,  0,  0]])\n",
      "tensor([[1, 5, 5, 5, 5, 5, 3, 5, 2],\n",
      "        [1, 3, 4, 2, 0, 0, 0, 0, 0]])\n",
      "{'<PAD>': 0, '<START>': 1, '<END>': 2, '<UNK>': 3, '?': 4, 'Falls': 5, 'Iguazu': 6, 'Where': 7, 'in': 8, 'is': 9, 'the': 10, 'world': 11}\n",
      "{'<PAD>': 0, '<START>': 1, '<END>': 2, 'B-LOC': 3, 'I-LOC': 4, 'O': 5}\n"
     ]
    }
   ],
   "source": [
    "#Converts the Data into a tensor for use by the model\n",
    "\n",
    "def convertDataShape(data, vocabulary = {}, labels = [], training = True, PADDING_TOKEN = '<PAD>', START_TOKEN = '<START>', STOP_TOKEN = '<END>', UNKNOWN_TOKEN = '<UNK>'):\n",
    "    \"\"\"\n",
    "    If training is enabled creates a vocabulary of all words in a list. Otherwise, a vocabulary should be passed.\n",
    "    Does the same with the labels.\n",
    "    Creates a matrix of sentences and positions, where each value indicates a word via its index in the vocabulary.\n",
    "    Creates another matrix of sentences and positions, where the values indicate a label.\n",
    "    '<PAD>' or another user defined token is used as padding for short sentences. Will also act as an unknown token, if not training, it is assumed to be in vocabulary.\n",
    "    Returns, the vocabulary, the labels and the two matrices.\n",
    "    \n",
    "    Input:\n",
    "    data          - (string list * string list) list - List of sentences. Each sentence is a tuple of two lists. The first is a list of words, the second a list of labels.\n",
    "    vocabulary    - string : int dictionary          - Dictionary of words in the vocabulary, values are the indices. Should be provided if not training. Defaults to empty dict.\n",
    "    labels        - string : int dictionary          - Dictionary of labels to classify, values are the indices. Should be provided if not training. Defaults to empty dict.\n",
    "    training      - boolean                          - Boolean variable deffining whether training is taking place, if yes then a new vocabulary will be created. Defaults to yes.\n",
    "    PADDING_TOKEN - string                           - Token to be used as padding. Default is provided\n",
    "    START_TOKEN   - string                           - Token to be used as marker for the start of the sentence. Default is provided\n",
    "    STOP_TOKEN    - string                           - Token to be used as marker for the end of the sentence. Default is provided\n",
    "    UNKNOWN_TOKEN - string                           - Token to be used as the unknown token. Default is provided\n",
    "    \n",
    "    Output:\n",
    "    Xmatrix       - 2D torch.tensor                  - 2d torch tensor containing the index of the word in the sentence in the vocabulary\n",
    "    Ymatrix       - 2D torch.tensor                  - 2d torch tensor containing the index of the label in the sentence in the labels\n",
    "    vocabulary    - string : int dictionary          - Dictionary of words, with indices as values, used for training.\n",
    "    labels        - string : int dictionary          - Dictionary of all the labels, with indices as values, used for classification. (all the labels are expected to be present in the training data, or in other words, the label list provided should be exhaustive)\n",
    "    \"\"\"\n",
    "\n",
    "\n",
    "    if training:\n",
    "        vocabList = sorted(set(word for sentence, _ in data for word in sentence))\n",
    "        \n",
    "        #In order to be able to work with unknown words in the future, we turn some of the least common words into unknown words so we can train on them\n",
    "        #This is done by removing them from the vocab list before creating the dictionary\n",
    "        vocabCount = Counter([word for sentence, _ in data for word in sentence])\n",
    "        UNKNOWN_RATIO = 5 #This should be percentage of tokens we want to turn into Unknown tokens, the least common tokens will be used\n",
    "        cutoff = int(len(vocabList) / (100 / UNKNOWN_RATIO)) + 1\n",
    "        removeList = vocabCount.most_common()[:-cutoff:-1]\n",
    "        for i in removeList:\n",
    "            vocabList.remove(i[0])\n",
    "\n",
    "        # Adding the special tokens in the first positions after the least common have been removed and creating the dictionaries\n",
    "        vocabList = [PADDING_TOKEN, START_TOKEN, STOP_TOKEN, UNKNOWN_TOKEN] + vocabList\n",
    "        vocabulary = {word: i for i, word in enumerate(vocabList)}\n",
    "        labelList = [PADDING_TOKEN, START_TOKEN, STOP_TOKEN] + sorted(set(label for _, sentenceLabels in data for label in sentenceLabels))\n",
    "        labels = {label: i for i, label in enumerate(labelList)}\n",
    "    \n",
    "    # Adding two to the max len in order to accomodate the introduction of start and end tokens\n",
    "    maxLen = max(len(sentence) for sentence, _ in data) + 2\n",
    "    Xmatrix = np.zeros((len(data), maxLen), dtype=int)\n",
    "    Ymatrix = np.zeros((len(data), maxLen), dtype=int)\n",
    "\n",
    "    for i, (sentence, sentenceLabels) in enumerate(data):\n",
    "        #Set the first token as the start token (assumes it's index is 1)\n",
    "        Xmatrix[i, 0] = 1\n",
    "        Ymatrix[i, 0] = 1\n",
    "        #Set all the indices to the correct index, with the unknown token as default\n",
    "        for j, word in enumerate(sentence):\n",
    "            Xmatrix[i, j+1] = vocabulary.get(word, vocabulary[UNKNOWN_TOKEN])\n",
    "        for j, label in enumerate(sentenceLabels):\n",
    "            Ymatrix[i, j+1] = labels.get(label, labels[START_TOKEN])\n",
    "            lastWord = j         \n",
    "        # Sets the token after the last word as en end token\n",
    "        Xmatrix[i, lastWord + 2] = 2\n",
    "        Ymatrix[i, lastWord + 2] = 2\n",
    "    \n",
    "    return torch.tensor(Xmatrix, dtype=torch.long), torch.tensor(Ymatrix, dtype=torch.long), vocabulary, labels\n",
    "\n",
    "# two first sentences of EWT training dataset so that quickdebugging can be run\n",
    "\n",
    "\n",
    "\n",
    "trainingDebugSen = [[\"Where\", \"in\", \"the\", \"world\", \"is\", \"Iguazu\", \"?\"], [\"Iguazu\", \"Falls\"]]\n",
    "trainingDebugTags = [[\"O\", \"O\", \"O\", \"O\", \"O\", \"B-LOC\", \"O\"], [\"B-LOC\", \"I-LOC\"]]\n",
    "\n",
    "dataDebug, labelsDebug, vocabDebug, tagsDebug = convertDataShape(list(zip(trainingDebugSen, trainingDebugTags)))\n",
    "print(dataDebug)\n",
    "print(labelsDebug)\n",
    "print(vocabDebug)\n",
    "print(tagsDebug)"
   ]
  },
  {
   "cell_type": "code",
   "execution_count": 4,
   "id": "5cb63731",
   "metadata": {},
   "outputs": [],
   "source": [
    "class baselineModel(torch.nn.Module):\n",
    "    def __init__(self, nWords, tags, dimEmbed, dimHidden, constraints):\n",
    "        super().__init__()\n",
    "        self.dimEmbed = dimEmbed\n",
    "        self.dimHidden = dimHidden\n",
    "        self.vocabSize = nWords\n",
    "        self.tagSetSize = len(tags)\n",
    "\n",
    "        self.embed = nn.Embedding(nWords, dimEmbed)\n",
    "        self.LSTM = nn.LSTM(dimEmbed, dimHidden, bidirectional=True)\n",
    "        self.linear = nn.Linear(dimHidden * 2, self.tagSetSize)\n",
    "        \n",
    "\n",
    "        # Initialize the CRF layer\n",
    "        self.CRF = CRF(self.tagSetSize, constraints = constraints, include_start_end_transitions=True)\n",
    "\n",
    "    def forwardTrain(self, inputData, labels):\n",
    "        # Embedding and LSTM layers\n",
    "        wordVectors = self.embed(inputData)\n",
    "        lstmOut, _ = self.LSTM(wordVectors)\n",
    "        \n",
    "        # Linear layer\n",
    "        emissions = self.linear(lstmOut)\n",
    "        \n",
    "        # CRF layer to compute the log likelihood loss\n",
    "        log_likelihood = self.CRF(emissions, labels)\n",
    "        \n",
    "        # The loss is the negative log-likelihood\n",
    "        loss = -log_likelihood\n",
    "        return loss\n",
    "        \n",
    "    def forwardPred(self, inputData):\n",
    "        # Embedding and LSTM layers\n",
    "        wordVectors = self.embed(inputData)\n",
    "        lstmOut, _ = self.LSTM(wordVectors)\n",
    "        \n",
    "        # Linear layer\n",
    "        emissions = self.linear(lstmOut)\n",
    "        \n",
    "        # Decode the best path\n",
    "        best_paths = self.CRF.viterbi_tags(emissions)\n",
    "        \n",
    "        # Extract the predicted tags from the paths\n",
    "        predictions = [path for path, score in best_paths]\n",
    "        return predictions\n"
   ]
  },
  {
   "cell_type": "code",
   "execution_count": null,
   "id": "665c82f7-6c93-469b-9913-7483ed57ae7c",
   "metadata": {},
   "outputs": [],
   "source": [
    "\n",
    "def saveToIob2(words, labels, outputFilePath):\n",
    "    \"\"\"\n",
    "    Save words and their corresponding labels in IOB2 format.\n",
    "\n",
    "    Args:\n",
    "    words (list): List of lists containing words.\n",
    "    labels (list): List of lists containing labels.\n",
    "    output_file (str): Path to the output IOB2 file.\n",
    "    \"\"\"\n",
    "    with open(outputFilePath, 'w', encoding='utf-8') as file:\n",
    "        for i in range(len(words)):\n",
    "            for j in range(len(words[i])):\n",
    "                line = f\"{j+1}\\t{words[i][j]}\\t{labels[i][j]}\\n\"\n",
    "                file.write(line)\n",
    "            file.write('\\n')"
   ]
  },
  {
   "cell_type": "code",
   "execution_count": 90,
   "id": "d166f3ea",
   "metadata": {},
   "outputs": [],
   "source": [
    "#Small dataset\n",
    "# two first sentences of EWT training dataset so that quickdebugging can be run\n",
    "\n",
    "tags = [\"O\", \"B-PER\", \"I-PER\", \"B-LOC\", \"I-LOC\", \"B-ORG\", \"I-ORG\"]\n",
    "\n",
    "trainingDebugSen = [[\"Where\", \"in\", \"the\", \"world\", \"is\", \"Iguazu\", \"?\"], [\"Iguazu\", \"Falls\"]]\n",
    "trainingDebugTags = [[\"O\", \"O\", \"O\", \"O\", \"O\", \"B-LOC\", \"O\"], [\"B-LOC\", \"I-LOC\"]]\n",
    "\n",
    "dataDebug, labelsDebug, vocabDebug, tagsDebug = convertDataShape(list(zip(trainingDebugSen, trainingDebugTags)))"
   ]
  },
  {
   "cell_type": "code",
   "execution_count": null,
   "id": "6192fac0",
   "metadata": {},
   "outputs": [],
   "source": [
    "#Test train\n",
    "#Quick traininig script on the debug dataset\n",
    "\n",
    "DIM_EMBEDDING = 100\n",
    "LSTM_HIDDEN = 50\n",
    "LEARNING_RATE = 0.01\n",
    "EPOCHS = 5\n",
    "\n",
    "random.seed(666)\n",
    "np.random.seed(666)\n",
    "torch.manual_seed(666)\n",
    "\n",
    "constraint_type = None\n",
    "\n",
    "model = baselineModel(len(vocabDebug), tagsDebug, DIM_EMBEDDING, LSTM_HIDDEN, constraint_type)\n",
    "optimizer = torch.optim.Adam(model.parameters(), lr=LEARNING_RATE)\n",
    "\n",
    "for epoch in range(EPOCHS):\n",
    "    model.train()\n",
    "    \n",
    "    optimizer.zero_grad()\n",
    "    loss = model.forwardTrain(dataDebug, labelsDebug)\n",
    "    \n",
    "    loss.backward()\n",
    "    optimizer.step()\n",
    "    \n",
    "    print(f\"Epoch {epoch}, Loss: {loss.item()}\")\n"
   ]
  },
  {
   "cell_type": "code",
   "execution_count": null,
   "id": "f68fee95-753b-4a42-b2ce-cae881316205",
   "metadata": {},
   "outputs": [],
   "source": [
    "#Getting predicitons and checking accuracy\n",
    "\n",
    "\n",
    "with torch.no_grad():\n",
    "    predictsDebug = model.forwardPred(dataDebug)\n",
    "\n",
    "confMat = MCM(torch.flatten(torch.tensor(predictsDebug, dtype=torch.long)), torch.flatten(labelsDebug), num_classes = len(tagsDebug))\n",
    "\n",
    "acc = torch.trace(confMat[1:,1:])/torch.sum(confMat[1:,1:]) #Taking away the first collumn and first row, because those correspond to the padding token and we don't care\n",
    "acc"
   ]
  },
  {
   "cell_type": "code",
   "execution_count": 9,
   "id": "1e1c711c-55e7-48e1-8bd9-b6d1c6ed3e12",
   "metadata": {},
   "outputs": [],
   "source": [
    "# Loading all the training data sets\n",
    "#pass train data size\n",
    "def loadingAllData(train = 0.8):\n",
    "    filePathTrain = \"../Data/UniversalNER/train/\"   \n",
    "    wordsData = []\n",
    "    tagsData = []\n",
    "    datasets = [\"da_ddt\", \"en_ewt\", \"hr_set\", \"pt_bosque\", \"sk_snk\", \"sr_set\", \"sv_talbanken\", \"zh_gsdsimp\", \"zh_gsd\"]\n",
    "\n",
    "    for i in datasets:\n",
    "        wordsDataTemp, tagsDataTemp = extractData(filePathTrain + i + \"-ud-train.iob2\")\n",
    "        wordsData += wordsDataTemp\n",
    "        tagsData += tagsDataTemp\n",
    "\n",
    "    wordsDataAnot, tagsDataAnot = Anotation.read_file_and_split(\"../Data/LotR/LabelingFinals/AllSentences.txt\")\n",
    "    wordsData += wordsDataAnot[0:int(len(wordsDataAnot)*train)]\n",
    "    tagsData += tagsDataAnot[0:int(len(wordsDataAnot)*train)]\n",
    "    testWordsData = wordsDataAnot[int(len(wordsDataAnot)*train):]\n",
    "    testTagsData = tagsDataAnot[int(len(wordsDataAnot)*train):]\n",
    "    trainData, trainLabels, vocab, labels = convertDataShape(list(zip(wordsData, tagsData)))\n",
    "    testData, testLabels, _, _ = convertDataShape(list(zip(testWordsData, testTagsData)), training = False, vocabulary = vocab, labels = labels)\n",
    "    return trainData, trainLabels, vocab, labels, testData, testLabels"
   ]
  },
  {
   "cell_type": "code",
   "execution_count": 12,
   "id": "7508cb5a",
   "metadata": {},
   "outputs": [],
   "source": [
    "trainDataAll, trainLabelsAll, vocab, labels, testData, testLabels = loadingAllData()"
   ]
  },
  {
   "cell_type": "code",
   "execution_count": 13,
   "id": "2fa51bee-3da8-44ca-84ab-fb4086c2c10c",
   "metadata": {},
   "outputs": [],
   "source": [
    "trainDataEWT = trainDataAll[:-1281]  # 1281 is the floor of 1602 * 0.8, could be substituted by the expression but unsure if we will change it\n",
    "trainDataLotR = trainDataAll[-1281:]\n",
    "trainLabelsEWT = trainLabelsAll[:-1281]\n",
    "trainLabelsLotR = trainLabelsAll[-1281:]"
   ]
  },
  {
   "cell_type": "code",
   "execution_count": null,
   "id": "527b41dd",
   "metadata": {},
   "outputs": [],
   "source": [
    "print(len(vocab))"
   ]
  },
  {
   "cell_type": "code",
   "execution_count": 18,
   "id": "619a0761",
   "metadata": {},
   "outputs": [
    {
     "data": {
      "text/plain": [
       "torch.Size([1281, 298])"
      ]
     },
     "execution_count": 18,
     "metadata": {},
     "output_type": "execute_result"
    }
   ],
   "source": [
    "trainDataLotR.size()"
   ]
  },
  {
   "cell_type": "code",
   "execution_count": null,
   "id": "1add8989-9183-426d-97c3-b0b3f5e66093",
   "metadata": {},
   "outputs": [],
   "source": [
    "DIM_EMBEDDING = 300\n",
    "LSTM_HIDDEN = 100\n",
    "LEARNING_RATE = 0.01\n",
    "EPOCHS = 20\n",
    "BATCH_SIZE = 128\n",
    "\n",
    "\n",
    "PADDING_TOKEN = '<PAD>'\n",
    "START_TOKEN = '<START>'\n",
    "STOP_TOKEN = '<END>'\n",
    "# The make constraint from the module was yielding some weird results so I decided to hardcode this for our use case, assuming the following dict of tags\n",
    "#{'<PAD>': 0, '<START>': 1, '<END>': 2, '-': 3, 'B-LOC': 4, 'B-ORG': 5, 'B-OTH': 6, 'B-PER': 7, 'I-LOC': 8, 'I-ORG': 9, 'I-OTH': 10, 'I-PER': 11, 'O': 12}\n",
    "CONSTRAINTS = [(0, 0), (1, 4), (1, 5), (1, 6), (1, 7), (1, 10), (2, 0), (4, 2), (4, 4), (4, 5), (4, 6), (4, 7), (4, 8), (4, 12), \n",
    "              (5, 2), (5, 4), (5, 5), (5, 6), (5, 7), (5, 9), (5, 12), (6, 2), (6, 4), (6, 5), (6, 6), (6, 7), (6, 10), (6, 12),\n",
    "              (7, 2), (7, 4), (7, 5), (7, 6), (7, 7), (7, 11), (7, 12), (8, 2), (8, 4), (8, 5), (8, 6), (8, 7), (8, 8), (8, 12),\n",
    "              (9, 2), (9, 4), (9, 5), (9, 6), (9, 7), (9, 9), (9, 12), (10, 2), (10, 4), (10, 5), (10, 6), (10, 7), (10, 10), (10, 12),\n",
    "              (11, 2), (11, 4), (11, 5), (11, 6), (11, 7), (11, 11), (11, 12), (12, 2), (12, 4), (12, 5), (12, 6), (12, 7), (12, 12)]\n",
    "\n",
    "random.seed(666)\n",
    "np.random.seed(666)\n",
    "torch.manual_seed(666)\n",
    "\n",
    "numBatches = trainDataEWT.shape[0] // BATCH_SIZE\n",
    "\n",
    "trainDataBatches = trainDataEWT[:BATCH_SIZE*numBatches].view(numBatches, BATCH_SIZE, trainDataEWT.shape[1])\n",
    "trainLabelsBatches = trainLabelsEWT[:BATCH_SIZE*numBatches].view(numBatches, BATCH_SIZE,  trainLabelsEWT.shape[1])\n",
    "\n",
    "\n",
    "\n",
    "model = baselineModel(len(vocab), labels, DIM_EMBEDDING, LSTM_HIDDEN, CONSTRAINTS)\n",
    "optimizer = torch.optim.Adam(model.parameters(), lr=LEARNING_RATE)\n",
    "\n",
    "for epoch in range(EPOCHS):\n",
    "    model.train()\n",
    "\n",
    "    model.zero_grad()\n",
    "\n",
    "    for batch in zip(trainDataBatches, trainLabelsBatches): \n",
    "        optimizer.zero_grad()\n",
    "        \n",
    "        loss = model.forwardTrain(batch[0], batch[1])\n",
    "        loss.backward()\n",
    "        optimizer.step()\n",
    "        \n",
    "     \n",
    "    print(f\"Epoch {epoch}, Loss: {loss.item()}\")\n"
   ]
  },
  {
   "cell_type": "code",
   "execution_count": null,
   "id": "a832c348-e6bb-4692-8b23-c779baf641ab",
   "metadata": {},
   "outputs": [],
   "source": [
    "#Loading all the dev datasets\n",
    "\n",
    "filePathDev = \"../Data/UniversalNER/dev/\"\n",
    "\n",
    "wordsDataDev = []\n",
    "tagsDataDev = []\n",
    "datasets = [\"da_ddt\", \"en_ewt\", \"hr_set\", \"pt_bosque\", \"sk_snk\", \"sr_set\", \"sv_talbanken\", \"zh_gsdsimp\", \"zh_gsd\"]\n",
    "\n",
    "for i in datasets:\n",
    "    wordsDataTemp, tagsDataTemp = extractData(filePathDev + i + \"-ud-dev.iob2\")\n",
    "    wordsDataDev += wordsDataTemp\n",
    "    tagsDataDev += tagsDataTemp\n",
    "\n",
    "devData, devLabels, _, _ = convertDataShape(list(zip(wordsDataDev, tagsDataDev)), vocabulary = vocab, labels = labels, training = False)"
   ]
  },
  {
   "cell_type": "code",
   "execution_count": null,
   "id": "541d3ae7-5508-4f97-aa7e-3e26f163d71d",
   "metadata": {},
   "outputs": [],
   "source": [
    "#Getting predicitons and checking accuracy\n",
    "\n",
    "DEV_BATCH_SIZE = 113\n",
    "\n",
    "devNumBatches = devData.shape[0] // DEV_BATCH_SIZE\n",
    "devDataBatches = devData[:DEV_BATCH_SIZE*devNumBatches].view(devNumBatches, DEV_BATCH_SIZE, devData.shape[1])\n",
    "devLabelsBatches = devLabels[:DEV_BATCH_SIZE*devNumBatches].view(devNumBatches, DEV_BATCH_SIZE, devData.shape[1])\n",
    "\n",
    "predicts = []\n",
    "with torch.no_grad():\n",
    "\n",
    "    for batch in devDataBatches:\n",
    "        predicts += model.forwardPred(batch)\n",
    "\n"
   ]
  },
  {
   "cell_type": "code",
   "execution_count": 95,
   "id": "f5299027",
   "metadata": {},
   "outputs": [
    {
     "data": {
      "text/plain": [
       "{'<PAD>': 0,\n",
       " '<START>': 1,\n",
       " '<END>': 2,\n",
       " '-': 3,\n",
       " 'B-LOC': 4,\n",
       " 'B-ORG': 5,\n",
       " 'B-OTH': 6,\n",
       " 'B-PER': 7,\n",
       " 'I-LOC': 8,\n",
       " 'I-ORG': 9,\n",
       " 'I-OTH': 10,\n",
       " 'I-PER': 11,\n",
       " 'O': 12}"
      ]
     },
     "execution_count": 95,
     "metadata": {},
     "output_type": "execute_result"
    }
   ],
   "source": [
    "labels"
   ]
  },
  {
   "cell_type": "code",
   "execution_count": 4,
   "id": "04e99230",
   "metadata": {},
   "outputs": [
    {
     "name": "stdout",
     "output_type": "stream",
     "text": [
      "tensor([[ 1,  7,  8, 10, 11,  9,  6,  4,  2],\n",
      "        [ 1,  6,  5,  2,  0,  0,  0,  0,  0]])\n",
      "tensor([[1, 5, 5, 5, 5, 5, 3, 5, 2],\n",
      "        [1, 3, 4, 2, 0, 0, 0, 0, 0]])\n",
      "{'<PAD>': 0, '<START>': 1, '<END>': 2, '<UNK>': 3, '?': 4, 'Falls': 5, 'Iguazu': 6, 'Where': 7, 'in': 8, 'is': 9, 'the': 10, 'world': 11}\n",
      "{'<PAD>': 0, '<START>': 1, '<END>': 2, 'B-LOC': 3, 'I-LOC': 4, 'O': 5}\n"
     ]
    }
   ],
   "source": [
    "trainingDebugSen = [[\"Where\", \"in\", \"the\", \"world\", \"is\", \"Iguazu\", \"?\"], [\"Iguazu\", \"Falls\"]]\n",
    "trainingDebugTags = [[\"O\", \"O\", \"O\", \"O\", \"O\", \"B-LOC\", \"O\"], [\"B-LOC\", \"I-LOC\"]]\n",
    "\n",
    "dataDebug, labelsDebug, vocabDebug, tagsDebug = convertDataShape(list(zip(trainingDebugSen, trainingDebugTags)))\n",
    "print(dataDebug)\n",
    "print(labelsDebug)\n",
    "print(vocabDebug)\n",
    "print(tagsDebug)"
   ]
  },
  {
   "cell_type": "code",
   "execution_count": 7,
   "id": "f051fabc",
   "metadata": {},
   "outputs": [
    {
     "name": "stderr",
     "output_type": "stream",
     "text": [
      "/var/folders/m4/5kdk2tkn0jlg5rrgxykfgky80000gn/T/ipykernel_21906/19325086.py:1: UserWarning: To copy construct from a tensor, it is recommended to use sourceTensor.clone().detach() or sourceTensor.clone().detach().requires_grad_(True), rather than torch.tensor(sourceTensor).\n",
      "  confMat = MCM(torch.flatten(torch.tensor(labelsDebug, dtype=torch.long)), torch.flatten(labelsDebug), num_classes = len(tagsDebug))\n"
     ]
    }
   ],
   "source": [
    "confMat = MCM(torch.flatten(torch.tensor(labelsDebug, dtype=torch.long)), torch.flatten(labelsDebug), num_classes = len(tagsDebug))\n",
    "\n",
    "# Calculating Accuracy, Precision, Recall, and F1 Score\n",
    "#Taking away the first three collumns and rows, because those correspond to the functional tokens and we don't care\n",
    "acc = torch.trace(confMat[3:,3:])/torch.sum(confMat[3:,3:]) \n",
    "precision = torch.diag(confMat[3:, 3:]) / torch.sum(confMat[3:, 3:], dim=1)\n",
    "recall = torch.diag(confMat[3:, 3:]) / torch.sum(confMat[3:, 3:], dim=0)\n",
    "f1_score = 2 * (precision * recall) / (precision + recall)\n",
    "# Taking the average F1 score across all classes\n",
    "average_f1_score = torch.mean(f1_score)\n"
   ]
  },
  {
   "cell_type": "code",
   "execution_count": 8,
   "id": "6c2e469e",
   "metadata": {},
   "outputs": [
    {
     "name": "stdout",
     "output_type": "stream",
     "text": [
      "Acc tensor(1.)\n",
      "Prec tensor([1., 1., 1.])\n",
      "Reacall tensor([1., 1., 1.])\n",
      "F1 tensor([1., 1., 1.])\n",
      "tensor(1.)\n"
     ]
    }
   ],
   "source": [
    "print(\"Acc\",acc)\n",
    "print(\"Prec\", precision)\n",
    "print(\"Reacall\",recall)\n",
    "print(\"F1\", f1_score)\n",
    "print(average_f1_score)"
   ]
  },
  {
   "cell_type": "code",
   "execution_count": null,
   "id": "8ceba639",
   "metadata": {},
   "outputs": [],
   "source": [
    "confMat = MCM(torch.flatten(torch.tensor(predicts, dtype=torch.long)), torch.flatten(devLabels), num_classes = len(labels))\n",
    "\n",
    "# Calculating Accuracy, Precision, Recall, and F1 Score\n",
    "#Taking away the first three collumns and rows, because those correspond to the functional tokens and we don't care\n",
    "acc = torch.trace(confMat[3:,3:])/torch.sum(confMat[3:,3:]) \n",
    "precision = torch.diag(confMat[3:, 3:]) / torch.sum(confMat[3:, 3:], dim=1)\n",
    "recall = torch.diag(confMat[3:, 3:]) / torch.sum(confMat[3:, 3:], dim=0)\n",
    "f1_score = 2 * (precision * recall) / (precision + recall)\n"
   ]
  },
  {
   "cell_type": "code",
   "execution_count": null,
   "id": "fb634faa-297e-4321-bd66-f3737af3a829",
   "metadata": {},
   "outputs": [],
   "source": [
    "outputFilePath = \"./baselineModel.iob2\"\n",
    "\n",
    "#convert the predictions back into labels\n",
    "\n",
    "# creates a list of lists of tags, where the padding token is excluded\n",
    "predictLabels = [[list(labels.keys())[i] for i in j if list(labels.keys())[i] != PADDING_TOKEN and list(labels.keys())[i] != START_TOKEN and list(labels.keys())[i] != STOP_TOKEN] for j in predicts]\n",
    "\n",
    "# the saveToIob2 works when provided data in the right format\n",
    "saveToIob2(devWordsData, predictLabels, outputFilePath)\n"
   ]
  },
  {
   "cell_type": "code",
   "execution_count": null,
   "id": "98887b5a-5560-4da7-9264-99e100303f65",
   "metadata": {},
   "outputs": [],
   "source": [
    "#Loading all the training data for the submission\n",
    "\n",
    "filePathTest = \"../Project/en_ewt-ud-test-masked.iob2\"\n",
    "\n",
    "wordsDataTest, tagsDataTest = extractData(filePathTest)\n",
    "\n",
    "testData, _, _, _ = convertDataShape(list(zip(wordsDataTest, tagsDataTest)), vocabulary = vocab, labels = labels, training = False)\n",
    "\n",
    "\n",
    "with torch.no_grad():\n",
    "\n",
    "    predictsTest = model.forwardPred(testData)\n",
    "\n",
    "outputFilePathTest = \"./baselineModelSubmit.iob2\"\n",
    "\n",
    "#convert the predictions back into labels\n",
    "\n",
    "# creates a list of lists of tags, where the padding token is excluded\n",
    "predictLabelsTest = [[list(labels.keys())[i] for i in j if list(labels.keys())[i] != PADDING_TOKEN and list(labels.keys())[i] != START_TOKEN and list(labels.keys())[i] != STOP_TOKEN] for j in predictsTest]\n",
    "\n",
    "# the saveToIob2 works when provided data in the right format\n",
    "saveToIob2(wordsDataTest, predictLabelsTest, outputFilePathTest)"
   ]
  },
  {
   "cell_type": "code",
   "execution_count": 19,
   "id": "2b8179fd-ecbe-4dc2-ab8a-1e185969e4f8",
   "metadata": {},
   "outputs": [
    {
     "ename": "NameError",
     "evalue": "name 'model' is not defined",
     "output_type": "error",
     "traceback": [
      "\u001b[0;31m---------------------------------------------------------------------------\u001b[0m",
      "\u001b[0;31mNameError\u001b[0m                                 Traceback (most recent call last)",
      "Cell \u001b[0;32mIn[19], line 12\u001b[0m\n\u001b[1;32m      9\u001b[0m trainDataBatchesLotR \u001b[38;5;241m=\u001b[39m trainDataLotR[:FINETUNNING_BATCH_SIZE\u001b[38;5;241m*\u001b[39mfinetunningNumBatches]\u001b[38;5;241m.\u001b[39mview(finetunningNumBatches, trainDataLotR\u001b[38;5;241m.\u001b[39mshape[\u001b[38;5;241m1\u001b[39m], FINETUNNING_BATCH_SIZE)\n\u001b[1;32m     10\u001b[0m trainLabelsBatchesLotR \u001b[38;5;241m=\u001b[39m trainLabelsLotR[:FINETUNNING_BATCH_SIZE\u001b[38;5;241m*\u001b[39mfinetunningNumBatches]\u001b[38;5;241m.\u001b[39mview(finetunningNumBatches, trainLabelsLotR\u001b[38;5;241m.\u001b[39mshape[\u001b[38;5;241m1\u001b[39m], FINETUNNING_BATCH_SIZE)\n\u001b[0;32m---> 12\u001b[0m modelBase \u001b[38;5;241m=\u001b[39m model\n\u001b[1;32m     13\u001b[0m finetunnedModels \u001b[38;5;241m=\u001b[39m [copy\u001b[38;5;241m.\u001b[39mdeepcopy(model) \u001b[38;5;28;01mfor\u001b[39;00m i \u001b[38;5;129;01min\u001b[39;00m \u001b[38;5;28mrange\u001b[39m(NUMBER_OF_MODELS_WITH_FINETUNNING)]\n\u001b[1;32m     14\u001b[0m finetunningOptimizer \u001b[38;5;241m=\u001b[39m torch\u001b[38;5;241m.\u001b[39moptim\u001b[38;5;241m.\u001b[39mAdam(model\u001b[38;5;241m.\u001b[39mparameters(), lr \u001b[38;5;241m=\u001b[39m FINETUNNING_LEARNING_RATE)\n",
      "\u001b[0;31mNameError\u001b[0m: name 'model' is not defined"
     ]
    }
   ],
   "source": [
    "#fine tunning all of the different models\n",
    "NUMBER_OF_MODELS_WITH_FINETUNNING = 10 # 10 models with some degree of fine tunning, one without, jumping in increments of 10 % of data\n",
    "FINETUNNING_LEARNING_RATE = 0.001\n",
    "FINETUNNING_EPOCHS = 5\n",
    "FINETUNNING_BATCH_SIZE = 32 # given this batch size and the size of our dataset, there are 4 batches in every 10% of data\n",
    "\n",
    "finetunningNumBatches = trainDataLotR.shape[0] // FINETUNNING_BATCH_SIZE\n",
    "\n",
    "# Reshape data into batches\n",
    "trainDataBatchesLotR = trainDataLotR[:FINETUNNING_BATCH_SIZE * finetunningNumBatches].view(finetunningNumBatches, FINETUNNING_BATCH_SIZE, trainDataLotR.shape[1])\n",
    "trainLabelsBatchesLotR = trainLabelsLotR[:FINETUNNING_BATCH_SIZE * finetunningNumBatches].view(finetunningNumBatches, FINETUNNING_BATCH_SIZE, trainLabelsLotR.shape[1])\n",
    "\n",
    "modelBase = model\n",
    "finetunnedModels = [copy.deepcopy(model) for i in range(NUMBER_OF_MODELS_WITH_FINETUNNING)]\n",
    "\n",
    "for i, modelToTrain in enumerate(finetunnedModels):\n",
    "\n",
    "    finetunningOptimizer = torch.optim.Adam(model.parameters(), lr = FINETUNNING_LEARNING_RATE)\n",
    "    \n",
    "    for epoch in range(FINETUNNING_EPOCHS):\n",
    "        modelToTrain.train()\n",
    "\n",
    "        modelToTrain.zero_grad()\n",
    "\n",
    "        j = 0\n",
    "        for batch in zip(trainDataBatchesLotR, trainLabelsBatchesLotR):\n",
    "\n",
    "            if j == (i+1)*4: #Making sure that each model only accesses the batches it should\n",
    "                break\n",
    "            \n",
    "            finetunningOptimizer.zero_grad()\n",
    "            loss = modelToTrain.forwardTrain(batch[0], batch[1])\n",
    "            loss.backward()\n",
    "            finetunningOptimizer.step()\n",
    "            j += 1\n",
    "     \n",
    "    \n",
    "        print(f\"Model: {i}, Epoch: {epoch}, Loss: {loss.item()}\")\n",
    "    "
   ]
  }
 ],
 "metadata": {
  "kernelspec": {
   "display_name": "Python 3 (ipykernel)",
   "language": "python",
   "name": "python3"
  },
  "language_info": {
   "codemirror_mode": {
    "name": "ipython",
    "version": 3
   },
   "file_extension": ".py",
   "mimetype": "text/x-python",
   "name": "python",
   "nbconvert_exporter": "python",
   "pygments_lexer": "ipython3",
   "version": "3.11.7"
  },
  "vscode": {
   "interpreter": {
    "hash": "1a625b66f05a6716aa62bf8e78e9986d1cdda2644917a6be9f119c99e84bc87a"
   }
  }
 },
 "nbformat": 4,
 "nbformat_minor": 5
}
